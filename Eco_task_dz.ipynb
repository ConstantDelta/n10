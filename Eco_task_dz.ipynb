{
 "cells": [
  {
   "cell_type": "markdown",
   "metadata": {},
   "source": [
    "# Задание 10.\n",
    "\n",
    "Вам предоставлен набор данных по качеству воздуха в китайских городах в виде csv файлов.\n",
    "Основная метрика, которая показывает качество воздуха - PM25(<a href='https://www.ncbi.nlm.nih.gov/pmc/articles/PMC4740125/'>подробнее о PM25</a>), указана в колонках, которые начинаются на PM_.\n",
    "Остальные столбцы содержат либо данные о времени, в которое были произведены измерения, либо данные о погоде в этот момент. DEWP - точка росы, HUMI - влажность, PRES - давление, TEMP - температура, cbwd - направление ветра, Iws - его скорость, precipation - осадки, Iprec - накопленные осадки.\n",
    "\n",
    "Для выполнения задания необходимо ответить на вопросы по данным, заполнив ячейки ноутбука. Сам ноутбук необходимо выложить в виде отдельного репозитория на github. Ссылку для клонирования репозитория необходимо приложить в решение задания."
   ]
  },
  {
   "cell_type": "markdown",
   "metadata": {},
   "source": [
    "## 1. Загрузите в виде DataFrame набор данных по качеству воздуха Пекина\n",
    "Ссылка на набор данных: https://disk.yandex.ru/d/1UKJoV1ULW1NLQ"
   ]
  },
  {
   "cell_type": "code",
   "execution_count": 14,
   "metadata": {
    "collapsed": true
   },
   "outputs": [],
   "source": [
    "import numpy as np\n",
    "import pandas as pd\n",
    "pd.read_csv('BeijingWeather.csv')"
   ]
  },
  {
   "cell_type": "markdown",
   "metadata": {},
   "source": [
    "## 2. Сколько всего строк находится в наборе данных?"
   ]
  },
  {
   "cell_type": "code",
   "execution_count": 14,
   "metadata": {
    "pycharm": {
     "name": "#%%\n"
    }
   },
   "outputs": [],
   "source": [
    "DataFrame.shape[0]"
   ]
  },
  {
   "cell_type": "markdown",
   "metadata": {},
   "source": [
    "## 3. Сколько измерений уровня загрязнения воздуха находится в наборе данных?"
   ]
  },
  {
   "cell_type": "code",
   "execution_count": 14,
   "metadata": {
    "pycharm": {
     "name": "#%%\n"
    }
   },
   "outputs": [],
   "source": [
    "DataFrame[['PM_Dongsi', 'PM_Dongsihuan', 'PM_Nongzhanguan', 'PM_US Post']].notna().sum().sum()"
   ]
  },
  {
   "cell_type": "markdown",
   "metadata": {},
   "source": [
    "## 4. Введите столбец среднего качества воздуха PM_mean с усреднением показаний со всех станций слежения."
   ]
  },
  {
   "cell_type": "code",
   "execution_count": null,
   "metadata": {
    "pycharm": {
     "name": "#%%\n"
    }
   },
   "outputs": [],
   "source": [
    "DataFrame['PM_mean'] = DataFrame[['PM_Dongsi', 'PM_Dongsihuan', 'PM_Nongzhanguan', 'PM_US Post']].mean(axis =1)"
   ]
  },
  {
   "cell_type": "markdown",
   "metadata": {},
   "source": [
    "## 5. Какое направление ветра преобладает в Пекине?"
   ]
  },
  {
   "cell_type": "code",
   "execution_count": 14,
   "metadata": {
    "pycharm": {
     "name": "#%%\n"
    }
   },
   "outputs": [],
   "source": [
    "DataFrame['cbwd'].mode()[0]"
   ]
  },
  {
   "cell_type": "markdown",
   "metadata": {},
   "source": [
    "## 6. В какой день качество воздуха является наихудшим(самая большая концентрация частиц)? Вывести дату в типе данных datetime стандартной библиотеки Python."
   ]
  },
  {
   "cell_type": "code",
   "execution_count": 14,
   "metadata": {
    "pycharm": {
     "name": "#%%\n"
    }
   },
   "outputs": [],
   "source": [
    "import datetime\n",
    "data = DataFrame[DataFrame['PM_mean']==DataFrame['PM_mean'].max()]\n",
    "data_datetime = datetime.date(data['year'], data['month'],data['day'])\n",
    "print(data_datetime)"
   ]
  },
  {
   "cell_type": "markdown",
   "metadata": {},
   "source": [
    "## 7. Какой из сезонов в Пекине в среднем наименее неблагоприятный для легких за последние 2 года наблюдений?"
   ]
  },
  {
   "cell_type": "code",
   "execution_count": null,
   "metadata": {
    "pycharm": {
     "name": "#%%\n"
    }
   },
   "outputs": [],
   "source": [
    "data = DataFrame[DataFrame['year'] >= 2014]\n",
    "data = data[['season','PM_mean']]\n",
    "data_season_1 = data[data['season'] == 1]\n",
    "data_season_2 = data[data['season'] == 2]\n",
    "data_season_3 = data[data['season'] == 3]\n",
    "data_season_4 = data[data['season'] == 4]\n",
    "data_season_1_mean = data_season_1['PM_mean'].mean()\n",
    "data_season_2_mean = data_season_2['PM_mean'].mean()\n",
    "data_season_3_mean = data_season_3['PM_mean'].mean()\n",
    "data_season_4_mean = data_season_4['PM_mean'].mean()\n",
    "min_mean = min(data_season_1_mean, data_season_2_mean, data_season_3_mean, data_season_4_mean)\n",
    "if min_mean == data_season_1_mean:\n",
    "    print(1)\n",
    "elif min_mean == data_season_2_mean:\n",
    "    print(2)\n",
    "elif min_mean == data_season_3_mean:\n",
    "    print(3)\n",
    "elif min_mean == data_season_4_mean:\n",
    "    print(4)"
   ]
  },
  {
   "cell_type": "markdown",
   "metadata": {},
   "source": [
    "## 8. Коррелирует ли влажность с качеством воздуха?\n",
    "Можно воспользоваться корреляцией Пирсона из numpy, а также встроенными функциями Pandas."
   ]
  },
  {
   "cell_type": "code",
   "execution_count": null,
   "metadata": {
    "pycharm": {
     "name": "#%%\n"
    }
   },
   "outputs": [],
   "source": [
    "print(DataFrame['HUMI'].corr(DataFrame['PM_mean']))\n",
    "if DataFrame['HUMI'].corr(DataFrame['PM_mean']) > 0.75:\n",
    "    print('да')\n",
    "if DataFrame['HUMI'].corr(DataFrame['PM_mean']) =< 0.75:\n",
    "    print('нет')"
   ]
  },
  {
   "cell_type": "markdown",
   "metadata": {},
   "source": [
    "## 9. Какой из сезонов в Пекине самый дождливый(в среднем по накоплению осадков)?"
   ]
  },
  {
   "cell_type": "code",
   "execution_count": null,
   "metadata": {
    "pycharm": {
     "name": "#%%\n"
    }
   },
   "outputs": [],
   "source": [
    "data = DataFrame[['season', 'Iprec']]\n",
    "data_season_1 = data[data['season'] == 1]\n",
    "data_season_2 = data[data['season'] == 2]\n",
    "data_season_3 = data[data['season'] == 3]\n",
    "data_season_4 = data[data['season'] == 4]\n",
    "data_season_1_mean = data_season_1['Iprec'].mean()\n",
    "data_season_2_mean = data_season_2['Iprec'].mean()\n",
    "data_season_3_mean = data_season_3['Iprec'].mean()\n",
    "data_season_4_mean = data_season_4['Iprec'].mean()\n",
    "min_mean = max(data_season_1_mean, data_season_2_mean, data_season_3_mean, data_season_4_mean)\n",
    "if min_mean == data_season_1_mean:\n",
    "    print(1)\n",
    "if min_mean == data_season_2_mean:\n",
    "    print(2)\n",
    "if min_mean == data_season_3_mean:\n",
    "    print(3)\n",
    "if min_mean == data_season_4_mean:\n",
    "    print(4)"
   ]
  },
  {
   "cell_type": "markdown",
   "metadata": {},
   "source": [
    "## 10. Становится ли качество воздуха во время дождя лучше, чем оно было сразу перед дождем?"
   ]
  },
  {
   "cell_type": "code",
   "execution_count": null,
   "metadata": {
    "pycharm": {
     "name": "#%%\n"
    }
   },
   "outputs": [],
   "source": [
    "intime = DataFrame[['PM_Dongsi', 'PM_Dongsihuan', 'PM_Nongzhanguan', 'PM_US Post']].loc[DataFrame['precipitation'] > 0].dropna().mean()\n",
    "before = DataFrame[['PM_Dongsi', 'PM_Dongsihuan', 'PM_Nongzhanguan', 'PM_US Post']].loc[DataFrame['precipitation'] == 0].dropna().mean()\n",
    "\n",
    "intime = DataFrame[['PM_Dongsi', 'PM_Dongsihuan', 'PM_Nongzhanguan', 'PM_US Post']].loc[DataFrame['precipitation'] > 0].dropna().mean()\n",
    "before = DataFrame[['PM_Dongsi', 'PM_Dongsihuan', 'PM_Nongzhanguan', 'PM_US Post']].loc[DataFrame['precipitation'] == 0].dropna().mean()\n",
    "\n",
    "if intime.mean() < before.mean():\n",
    "    print('да')\n",
    "if intime.mean() > before.mean():\n",
    "    print('нет')"
   ]
  }
 ],
 "metadata": {
  "kernelspec": {
   "display_name": "Python 3",
   "language": "python",
   "name": "python3"
  },
  "language_info": {
   "codemirror_mode": {
    "name": "ipython",
    "version": 3
   },
   "file_extension": ".py",
   "mimetype": "text/x-python",
   "name": "python",
   "nbconvert_exporter": "python",
   "pygments_lexer": "ipython3",
   "version": "3.8.5"
  }
 },
 "nbformat": 4,
 "nbformat_minor": 1
}
